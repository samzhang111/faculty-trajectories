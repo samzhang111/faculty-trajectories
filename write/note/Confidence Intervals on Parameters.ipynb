{
 "cells": [
  {
   "cell_type": "markdown",
   "id": "802c5239",
   "metadata": {},
   "source": [
    "This notebook generates the confidence intervals for the parameters that we put into the paper.\n",
    "\n"
   ]
  },
  {
   "cell_type": "code",
   "execution_count": 23,
   "id": "abbd0c32",
   "metadata": {},
   "outputs": [],
   "source": [
    "import pickle\n",
    "import sys\n",
    "import numpy as np\n",
    "import pandas as pd\n",
    "from scipy import stats\n",
    "from pyprojroot.here import here\n",
    "import matplotlib.pyplot as plt\n",
    "import seaborn as sns\n",
    "\n",
    "sys.path.append(str(here(\"write/src\")))\n",
    "from plot_helpers import find_mode, fit_trunc_laplace"
   ]
  },
  {
   "cell_type": "code",
   "execution_count": 1,
   "id": "a9cd069b",
   "metadata": {},
   "outputs": [],
   "source": [
    "#######################################\n",
    "# Import data\n",
    "#######################################\n",
    "\n",
    "# Empirical trajectories\n",
    "df_traj_all = pd.read_csv(here(\"write/input/import/all-trajectories.csv\"))\n",
    "\n",
    "# Bootstrapped fits\n",
    "with open(here(\"write/input/fit/bootstrap-all-trajectories.pickle\"), \"rb\") as f:\n",
    "    bootstrap_results = pickle.load(f)\n",
    "\n",
    "alpha_q0_bootstrap = bootstrap_results['alpha_q0_bootstrap']\n",
    "\n",
    "with open(here(\"write/input/simulate/simulated-all.pickle\"), \"rb\") as f:\n",
    "    simulated_results_all = pickle.load(f)\n",
    "    sim_trajs_all = simulated_results_all['trajs']"
   ]
  },
  {
   "cell_type": "code",
   "execution_count": 17,
   "id": "7422ede7",
   "metadata": {},
   "outputs": [],
   "source": [
    "df_traj_all = df_traj_all.dropna(subset=['q_adj_delta'])\n",
    "yrs_b = df_traj_all[(df_traj_all.CareerAgeZero > 0) & (df_traj_all.CareerAgeZero <= 4)]\n",
    "yrs_c = df_traj_all[(df_traj_all.CareerAgeZero > 4) & (df_traj_all.CareerAgeZero <= 7)]\n",
    "yrs_d = df_traj_all[(df_traj_all.CareerAgeZero > 7)]"
   ]
  },
  {
   "cell_type": "code",
   "execution_count": 58,
   "id": "9ff5c906",
   "metadata": {},
   "outputs": [],
   "source": [
    "def block_bootstrap(df, block_column, target_column, n_iterations=500):\n",
    "    unique_values = df[block_column].unique()\n",
    "    bootstrapped_targets = []\n",
    "    \n",
    "    for _ in range(n_iterations):\n",
    "        sampled_values = np.random.choice(unique_values, size=len(unique_values), replace=True)\n",
    "        sampled_target = df.loc[df[block_column].isin(sampled_values), target_column].copy()\n",
    "        bootstrapped_targets.append(sampled_target)\n",
    "    \n",
    "    return bootstrapped_targets\n",
    "\n",
    "yrs_b_boot = block_bootstrap(yrs_b, 'dblp', 'q_adj_delta', n_iterations=10000)\n",
    "yrs_b_modes = [find_mode(x) for x in yrs_b_boot]\n",
    "yrs_b_alphas = [fit_trunc_laplace(x, mode) for (x, mode) in zip(yrs_b_boot, modes)]"
   ]
  },
  {
   "cell_type": "code",
   "execution_count": 59,
   "id": "2d2bf50a",
   "metadata": {},
   "outputs": [],
   "source": [
    "yrs_c_boot = block_bootstrap(yrs_c, 'dblp', 'q_adj_delta', n_iterations=10000)\n",
    "yrs_c_modes = [find_mode(x) for x in yrs_c_boot]\n",
    "yrs_c_alphas = [fit_trunc_laplace(x, mode) for (x, mode) in zip(yrs_c_boot, modes)]"
   ]
  },
  {
   "cell_type": "code",
   "execution_count": 64,
   "id": "6bb72791",
   "metadata": {},
   "outputs": [],
   "source": [
    "yrs_d_boot = block_bootstrap(yrs_d, 'dblp', 'q_adj_delta', n_iterations=10000)\n",
    "yrs_d_modes = [find_mode(x) for x in yrs_d_boot]\n",
    "yrs_d_alphas = [fit_trunc_laplace(x, mode) for (x, mode) in zip(yrs_d_boot, modes)]"
   ]
  },
  {
   "cell_type": "code",
   "execution_count": 66,
   "id": "fd75bae1",
   "metadata": {},
   "outputs": [
    {
     "data": {
      "text/plain": [
       "[3.8729633406900676,\n",
       " array([3.78120744, 3.97198334]),\n",
       " -0.1275923319844635,\n",
       " array([-0.47720549,  0.35216393])]"
      ]
     },
     "execution_count": 66,
     "metadata": {},
     "output_type": "execute_result"
    }
   ],
   "source": [
    "[\n",
    "    np.mean(yrs_b_alphas), np.percentile(yrs_b_alphas, [2.5, 97.5]),\n",
    "    np.mean(yrs_b_modes), np.percentile(yrs_b_modes, [2.5, 97.5])\n",
    "]"
   ]
  },
  {
   "cell_type": "code",
   "execution_count": 67,
   "id": "cbc0d880",
   "metadata": {},
   "outputs": [
    {
     "data": {
      "text/plain": [
       "[3.6411461469899478,\n",
       " array([3.53924834, 3.7726815 ]),\n",
       " -0.12591832441685538,\n",
       " array([-1.76687527,  0.3208474 ])]"
      ]
     },
     "execution_count": 67,
     "metadata": {},
     "output_type": "execute_result"
    }
   ],
   "source": [
    "[\n",
    "    np.mean(yrs_c_alphas), np.percentile(yrs_c_alphas, [2.5, 97.5]),\n",
    "    np.mean(yrs_c_modes), np.percentile(yrs_c_modes, [2.5, 97.5])\n",
    "]"
   ]
  },
  {
   "cell_type": "code",
   "execution_count": 68,
   "id": "d7af59b3",
   "metadata": {},
   "outputs": [
    {
     "data": {
      "text/plain": [
       "[3.2825849429751375,\n",
       " array([3.18797392, 3.38665787]),\n",
       " -0.40143228949189347,\n",
       " array([-0.6398291 ,  0.09291297])]"
      ]
     },
     "execution_count": 68,
     "metadata": {},
     "output_type": "execute_result"
    }
   ],
   "source": [
    "[\n",
    "    np.mean(yrs_d_alphas), np.percentile(yrs_d_alphas, [2.5, 97.5]),\n",
    "    np.mean(yrs_d_modes), np.percentile(yrs_d_modes, [2.5, 97.5]),\n",
    "]"
   ]
  },
  {
   "cell_type": "code",
   "execution_count": 121,
   "id": "0571aade",
   "metadata": {},
   "outputs": [],
   "source": [
    "def print_CIs(bootstrapped):\n",
    "        print(f\"\"\"mean: {np.mean(bootstrapped)} 95% CI: ({np.percentile(bootstrapped, [2.5, 97.5])})\"\"\")"
   ]
  },
  {
   "cell_type": "code",
   "execution_count": 123,
   "id": "3e83debe",
   "metadata": {},
   "outputs": [
    {
     "name": "stdout",
     "output_type": "stream",
     "text": [
      "mean: 4.450988611240126 95% CI: ([4.32466998 4.57403457])\n",
      "mean: 4.255954464410283 95% CI: ([4.11776171 4.39164867])\n",
      "mean: 3.7793223852742703 95% CI: ([3.66062061 3.90375828])\n",
      "mean: 3.5195883525245195 95% CI: ([3.37573705 3.67729561])\n"
     ]
    }
   ],
   "source": [
    "print_CIs([x[(4,7,13)][0]['alpha'] for x in bootstrap_results['regression_for_cutoffs_bootstrap']])\n",
    "print_CIs([x[(4,7,13)][1]['alpha'] for x in bootstrap_results['regression_for_cutoffs_bootstrap']])\n",
    "print_CIs([x[(4,7,13)][2]['alpha'] for x in bootstrap_results['regression_for_cutoffs_bootstrap']])\n",
    "print_CIs([x[(4,7,13)][3]['alpha'] for x in bootstrap_results['regression_for_cutoffs_bootstrap']])"
   ]
  },
  {
   "cell_type": "code",
   "execution_count": 125,
   "id": "71fad21b",
   "metadata": {},
   "outputs": [
    {
     "name": "stdout",
     "output_type": "stream",
     "text": [
      "mean: 0.8088373695947516 95% CI: ([0.79223565 0.82950146])\n",
      "mean: 0.7250510957099011 95% CI: ([0.71458285 0.74736465])\n",
      "mean: 0.7283315130593058 95% CI: ([0.72021494 0.75086847])\n",
      "mean: 0.7547762480437192 95% CI: ([0.72621601 0.77583279])\n"
     ]
    }
   ],
   "source": [
    "print_CIs([x[(4,7,13)][0]['mode_beta'] for x in bootstrap_results['regression_for_cutoffs_bootstrap']])\n",
    "print_CIs([x[(4,7,13)][1]['mode_beta'] for x in bootstrap_results['regression_for_cutoffs_bootstrap']])\n",
    "print_CIs([x[(4,7,13)][2]['mode_beta'] for x in bootstrap_results['regression_for_cutoffs_bootstrap']])\n",
    "print_CIs([x[(4,7,13)][3]['mode_beta'] for x in bootstrap_results['regression_for_cutoffs_bootstrap']])"
   ]
  },
  {
   "cell_type": "code",
   "execution_count": 126,
   "id": "c84a36df",
   "metadata": {},
   "outputs": [
    {
     "name": "stdout",
     "output_type": "stream",
     "text": [
      "mean: -0.10887631873310692 95% CI: ([-0.54453426  0.35216393])\n",
      "mean: -0.06161134889126299 95% CI: ([-0.6088507   0.17078201])\n",
      "mean: -0.41147426570170326 95% CI: ([-0.62500489  0.1484991 ])\n",
      "mean: 0.14052272576045358 95% CI: ([-0.50795679  1.49597916])\n"
     ]
    }
   ],
   "source": [
    "print_CIs([x[(4,7,13)][0]['mode_mu'] for x in bootstrap_results['regression_for_cutoffs_bootstrap']])\n",
    "print_CIs([x[(4,7,13)][1]['mode_mu'] for x in bootstrap_results['regression_for_cutoffs_bootstrap']])\n",
    "print_CIs([x[(4,7,13)][2]['mode_mu'] for x in bootstrap_results['regression_for_cutoffs_bootstrap']])\n",
    "print_CIs([x[(4,7,13)][3]['mode_mu'] for x in bootstrap_results['regression_for_cutoffs_bootstrap']])"
   ]
  },
  {
   "cell_type": "code",
   "execution_count": null,
   "id": "d95c6711",
   "metadata": {},
   "outputs": [],
   "source": []
  }
 ],
 "metadata": {
  "kernelspec": {
   "display_name": "Python 3 (ipykernel)",
   "language": "python",
   "name": "python3"
  },
  "language_info": {
   "codemirror_mode": {
    "name": "ipython",
    "version": 3
   },
   "file_extension": ".py",
   "mimetype": "text/x-python",
   "name": "python",
   "nbconvert_exporter": "python",
   "pygments_lexer": "ipython3",
   "version": "3.11.10"
  }
 },
 "nbformat": 4,
 "nbformat_minor": 5
}
